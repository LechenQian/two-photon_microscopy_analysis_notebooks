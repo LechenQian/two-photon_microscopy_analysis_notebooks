{
 "cells": [
  {
   "cell_type": "markdown",
   "metadata": {},
   "source": [
    "#### This code can help you quickly convert the image format in the processed folder of each imaged mouse\n",
    "so when you are using ImageJ, you can simply click save and dont need to worry about the it saves the image as tif format."
   ]
  },
  {
   "cell_type": "code",
   "execution_count": 4,
   "metadata": {
    "init_cell": true
   },
   "outputs": [],
   "source": [
    "from PIL import Image\n",
    "import matplotlib.pyplot as plt\n",
    "import numpy as np\n",
    "import cv2\n",
    "import pickle\n",
    "import sys\n",
    "from skimage import io\n",
    "import time\n",
    "import h5py\n",
    "import os\n",
    "import math\n",
    "import pandas as pd\n",
    "import re"
   ]
  },
  {
   "cell_type": "code",
   "execution_count": 10,
   "metadata": {},
   "outputs": [],
   "source": [
    "target_file_name = 'Mask_align.tif'\n",
    "num_postfix = 3\n",
    "target_image_format = 'png'\n",
    "\n",
    "direc = 'D:/PhD/Microscope/current_analysis/imaging_data_2020_12_Pav/D2-05-TDT'\n",
    "processed_folders = [file for file in os.listdir(os.path.join(\n",
    "    direc, 'processed')) if os.path.isdir(os.path.join(direc, 'processed', file))]\n",
    "\n",
    "selected_pro_folders = [\n",
    "    folder for folder in processed_folders if ' -' not in folder] # ' -' is what I used for skipping the non-analyzed dates\n",
    "\n",
    "for folder in selected_pro_folders:\n",
    "    file_path = os.path.join(direc, 'processed', folder)\n",
    "    for file in os.listdir(file_path):\n",
    "        if file.endswith(target_file_name):\n",
    "            outfile = file[:-num_postfix] + target_image_format\n",
    "            im = Image.open(os.path.join(file_path, file))\n",
    "            print(\"new filename : \" + outfile)\n",
    "            out = im.convert('LA')\n",
    "            out.save(outfile, target_image_format.upper(), quality=100)"
   ]
  }
 ],
 "metadata": {
  "celltoolbar": "Initialization Cell",
  "kernelspec": {
   "display_name": "Python 3",
   "language": "python",
   "name": "python3"
  },
  "language_info": {
   "codemirror_mode": {
    "name": "ipython",
    "version": 3
   },
   "file_extension": ".py",
   "mimetype": "text/x-python",
   "name": "python",
   "nbconvert_exporter": "python",
   "pygments_lexer": "ipython3",
   "version": "3.6.10"
  },
  "toc": {
   "base_numbering": 1,
   "nav_menu": {},
   "number_sections": true,
   "sideBar": true,
   "skip_h1_title": false,
   "title_cell": "Table of Contents",
   "title_sidebar": "Contents",
   "toc_cell": false,
   "toc_position": {},
   "toc_section_display": true,
   "toc_window_display": false
  },
  "varInspector": {
   "cols": {
    "lenName": 16,
    "lenType": 16,
    "lenVar": 40
   },
   "kernels_config": {
    "python": {
     "delete_cmd_postfix": "",
     "delete_cmd_prefix": "del ",
     "library": "var_list.py",
     "varRefreshCmd": "print(var_dic_list())"
    },
    "r": {
     "delete_cmd_postfix": ") ",
     "delete_cmd_prefix": "rm(",
     "library": "var_list.r",
     "varRefreshCmd": "cat(var_dic_list()) "
    }
   },
   "types_to_exclude": [
    "module",
    "function",
    "builtin_function_or_method",
    "instance",
    "_Feature"
   ],
   "window_display": false
  }
 },
 "nbformat": 4,
 "nbformat_minor": 4
}
