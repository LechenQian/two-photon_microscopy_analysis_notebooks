{
 "cells": [
  {
   "cell_type": "code",
   "execution_count": null,
   "metadata": {},
   "outputs": [],
   "source": [
    "from PIL import Image, ImageSequence\n",
    "import numpy as np\n",
    "import cv2\n",
    "import tifffile as tiff\n",
    "\n",
    "\n",
    "def read_imgs(file_name = 'VTA-GC-1T1_G.tiff'):\n",
    "    imgs = []\n",
    "# \timg_seq = Image.open(file_name)\n",
    "    img_seq = tiff.imread(file_name)\n",
    "    \n",
    "    for i, img in enumerate(img_seq):\n",
    "        imgs.append(np.array(img))\n",
    "    imgs = np.array(imgs) / 2 ** 16 # normalize to [0, 1]\n",
    "    return imgs\n",
    "\n",
    "\n",
    "def get_mask(img_shape, boxes, blurness = 0):\n",
    "\t# The larger the blurness value, the stronger the blurness, 0 means no blur, 1 is strongest\n",
    "\tmask = np.zeros(img_shape, dtype=np.float32)\n",
    "\tfor box in boxes:\n",
    "\t\ttopleft_x = box[0]\n",
    "\t\ttopleft_y = box[1]\n",
    "\t\tbotright_x = box[2]\n",
    "\t\tbotright_y = box[3]\n",
    "\t\tbox_width = botright_x - topleft_x\n",
    "\t\tbox_height = botright_y - topleft_y\n",
    "\t\tassert box_width >= 0, \"box width should be greater than 0\"\n",
    "\t\tassert box_height >= 0, \"box height should be greater than 0\"\n",
    "\t\tassert topleft_x >=0 and topleft_x <= img_shape[1], \"topleft_x should be inside the image\"\n",
    "\t\tassert topleft_y >=0 and topleft_y <= img_shape[0], \"topleft_y should be inside the image\"\n",
    "\t\tassert botright_x >=0 and botright_x <= img_shape[1], \"botright_x should be inside the image\"\n",
    "\t\tassert botright_y >=0 and botright_y <= img_shape[0], \"botright_y should be inside the image\"\n",
    "\t\tmask[topleft_y:botright_y, topleft_x:botright_x] = np.ones([box_height, box_width], dtype=np.float32)\n",
    "\tmask = 1 - mask\n",
    "\tif blurness > 0:\n",
    "\t\tblur_kernel_height = int(blurness * img_shape[0])\n",
    "\t\tblur_kernel_width = int(blurness * img_shape[1])\n",
    "\t\tmask = cv2.blur(mask, (blur_kernel_height, blur_kernel_width))\n",
    "\treturn mask\n",
    "\n",
    "\n",
    "def mask_img(img, boxes, mask_blurness=0.1, img_blurness=0.1, mode=0):\n",
    "\t# mask_blurness controls the softness of the mask border\n",
    "\t# img_blurness is only used when mode = 1\n",
    "\t# boxes is a list of box, each box has 4 dims tl_x, tl_y, br_x, br_y\n",
    "\timg_shape = img.shape\n",
    "\tmask = get_mask(img_shape, boxes, mask_blurness)\n",
    "\tif mode == 0:\n",
    "\t\t# mask out the box area directly,]\n",
    "\t\tmasked_img = img * mask\n",
    "\telif mode == 1:\n",
    "    # blur the img, then replace the box area with blured img\n",
    "\t\tblur_kernel_height = int(img_blurness * img_shape[0])\n",
    "\t\tblur_kernel_width = int(img_blurness * img_shape[1])\n",
    "\t\tblured_img = cv2.blur(img, (blur_kernel_height, blur_kernel_width))\n",
    "\t\tmasked_img = img * mask + blured_img * (1 - mask)\n",
    "\treturn masked_img\n",
    "\n",
    "\n",
    "\n"
   ]
  },
  {
   "cell_type": "code",
   "execution_count": null,
   "metadata": {},
   "outputs": [],
   "source": [
    "filename = 'D:/PhD/Microscope/imaging_data_20_09/DA_terminal/VTA-GC-1/processed/2020-10-07/tiff_chained_all.tiff'\n",
    "save_name = filename[0:-21]+'masked_tiff_chained_all.tiff'\n",
    "save_name"
   ]
  },
  {
   "cell_type": "code",
   "execution_count": null,
   "metadata": {},
   "outputs": [],
   "source": [
    "\n",
    "imgs = read_imgs(file_name = filename) \n",
    "img_shape = [imgs.shape[1], imgs.shape[2]]\n",
    "box1,box2,box3 = [159,45,199,86],[180,102,197,135],[78,42,103,69]\n",
    "boxes = [box1,box2,box3]\n",
    "Masked = []\n",
    "for img in imgs:\n",
    "    masked_img = mask_img(img, boxes, 0.1, 0.1, 1)\n",
    "#     cv2.imshow('masked_img', masked_img)\n",
    "#     cv2.waitKey()\n",
    "    Masked.append(np.array(masked_img)*2**16)\n",
    "tiff.imsave(save_name, np.array(Masked).astype('uint16'),bigtiff=True)"
   ]
  },
  {
   "cell_type": "code",
   "execution_count": null,
   "metadata": {},
   "outputs": [],
   "source": [
    "Masked"
   ]
  },
  {
   "cell_type": "code",
   "execution_count": null,
   "metadata": {},
   "outputs": [],
   "source": []
  },
  {
   "cell_type": "code",
   "execution_count": null,
   "metadata": {},
   "outputs": [],
   "source": [
    "# tiff.imsave(save_name, np.asarray(Masked).astype('uint16'),bigtiff=True)\n",
    "tiff.imsave(save_name, np.array(Masked).astype('uint16'),bigtiff=True)"
   ]
  },
  {
   "cell_type": "code",
   "execution_count": null,
   "metadata": {},
   "outputs": [],
   "source": []
  },
  {
   "cell_type": "code",
   "execution_count": null,
   "metadata": {},
   "outputs": [],
   "source": [
    "img_seq = tiff.imread(filename)\n"
   ]
  },
  {
   "cell_type": "code",
   "execution_count": null,
   "metadata": {},
   "outputs": [],
   "source": [
    "img_seq.dtype"
   ]
  }
 ],
 "metadata": {
  "kernelspec": {
   "display_name": "Python 3",
   "language": "python",
   "name": "python3"
  },
  "language_info": {
   "codemirror_mode": {
    "name": "ipython",
    "version": 3
   },
   "file_extension": ".py",
   "mimetype": "text/x-python",
   "name": "python",
   "nbconvert_exporter": "python",
   "pygments_lexer": "ipython3",
   "version": "3.6.10"
  }
 },
 "nbformat": 4,
 "nbformat_minor": 4
}
